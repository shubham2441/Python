{
 "cells": [
  {
   "cell_type": "code",
   "execution_count": 2,
   "metadata": {},
   "outputs": [
    {
     "name": "stdout",
     "output_type": "stream",
     "text": [
      "Text is:  CREATOR OF PYTHON\n",
      "\n",
      "      \n",
      "\n",
      "GUIDO VAN ROSSUM\n"
     ]
    }
   ],
   "source": [
    "import pytesseract as tess\n",
    "import cv2\n",
    "from PIL import Image\n",
    "\n",
    "img = cv2.imread(\"image_11.png\")\n",
    "cv2.imshow(\"Test Image\", img)\n",
    "cv2.waitKey(0)\n",
    "cv2.destroyAllWindows()\n",
    "test_image = Image.fromarray(img)\n",
    "tess.pytesseract.tesseract_cmd = r'C:\\Tesseract-OCR\\tesseract.exe'\n",
    "text = tess.image_to_string(test_image, lang='eng')\n",
    "print(\"Text is: \", text)"
   ]
  },
  {
   "cell_type": "code",
   "execution_count": null,
   "metadata": {},
   "outputs": [],
   "source": []
  }
 ],
 "metadata": {
  "kernelspec": {
   "display_name": "Python 3",
   "language": "python",
   "name": "python3"
  },
  "language_info": {
   "codemirror_mode": {
    "name": "ipython",
    "version": 3
   },
   "file_extension": ".py",
   "mimetype": "text/x-python",
   "name": "python",
   "nbconvert_exporter": "python",
   "pygments_lexer": "ipython3",
   "version": "3.7.3"
  }
 },
 "nbformat": 4,
 "nbformat_minor": 2
}
