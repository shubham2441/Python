{
 "cells": [
  {
   "cell_type": "code",
   "execution_count": 1,
   "metadata": {},
   "outputs": [],
   "source": [
    "import pandas as pd\n",
    "import numpy as np\n",
    "\n",
    "import nltk \n",
    "from nltk.corpus import wordnet as wn\n",
    "\n",
    "from nltk.tokenize import word_tokenize, sent_tokenize\n",
    "from nltk.corpus import stopwords\n",
    "from nltk.stem import PorterStemmer, WordNetLemmatizer\n",
    "from sklearn.feature_extraction.text import CountVectorizer, TfidfVectorizer\n",
    "\n",
    "from nltk.corpus import wordnet_ic"
   ]
  },
  {
   "cell_type": "code",
   "execution_count": 2,
   "metadata": {},
   "outputs": [
    {
     "data": {
      "text/plain": [
       "(12, 1)"
      ]
     },
     "execution_count": 2,
     "metadata": {},
     "output_type": "execute_result"
    }
   ],
   "source": [
    "pos_df = pd.read_csv('po.csv',header=None)\n",
    "pos_df.columns=['POs']\n",
    "pos_df.shape"
   ]
  },
  {
   "cell_type": "code",
   "execution_count": 3,
   "metadata": {},
   "outputs": [
    {
     "data": {
      "text/html": [
       "<div>\n",
       "<style scoped>\n",
       "    .dataframe tbody tr th:only-of-type {\n",
       "        vertical-align: middle;\n",
       "    }\n",
       "\n",
       "    .dataframe tbody tr th {\n",
       "        vertical-align: top;\n",
       "    }\n",
       "\n",
       "    .dataframe thead th {\n",
       "        text-align: right;\n",
       "    }\n",
       "</style>\n",
       "<table border=\"1\" class=\"dataframe\">\n",
       "  <thead>\n",
       "    <tr style=\"text-align: right;\">\n",
       "      <th></th>\n",
       "      <th>POs</th>\n",
       "    </tr>\n",
       "  </thead>\n",
       "  <tbody>\n",
       "    <tr>\n",
       "      <td>0</td>\n",
       "      <td>Engineering knowledge: Apply the knowledge of ...</td>\n",
       "    </tr>\n",
       "    <tr>\n",
       "      <td>1</td>\n",
       "      <td>Problem analysis: Identify, formulate, review ...</td>\n",
       "    </tr>\n",
       "    <tr>\n",
       "      <td>2</td>\n",
       "      <td>Design/development of solutions: Design soluti...</td>\n",
       "    </tr>\n",
       "    <tr>\n",
       "      <td>3</td>\n",
       "      <td>Conduct investigations of complex problems: Us...</td>\n",
       "    </tr>\n",
       "    <tr>\n",
       "      <td>4</td>\n",
       "      <td>Modern tool usage: Create, select, and apply a...</td>\n",
       "    </tr>\n",
       "  </tbody>\n",
       "</table>\n",
       "</div>"
      ],
      "text/plain": [
       "                                                 POs\n",
       "0  Engineering knowledge: Apply the knowledge of ...\n",
       "1  Problem analysis: Identify, formulate, review ...\n",
       "2  Design/development of solutions: Design soluti...\n",
       "3  Conduct investigations of complex problems: Us...\n",
       "4  Modern tool usage: Create, select, and apply a..."
      ]
     },
     "execution_count": 3,
     "metadata": {},
     "output_type": "execute_result"
    }
   ],
   "source": [
    "pos_df.head()"
   ]
  },
  {
   "cell_type": "code",
   "execution_count": 4,
   "metadata": {},
   "outputs": [],
   "source": [
    "po_tokens=[]\n",
    "for po in pos_df['POs']:\n",
    "    po_tokens.append(word_tokenize(po.lower()))"
   ]
  },
  {
   "cell_type": "code",
   "execution_count": 5,
   "metadata": {},
   "outputs": [
    {
     "name": "stdout",
     "output_type": "stream",
     "text": [
      "Engineering knowledge: Apply the knowledge of mathematics, science, engineering fundamentals, and an engineering specialization to the solution of complex engineering problems.\n"
     ]
    }
   ],
   "source": [
    "print(pos_df['POs'][0])"
   ]
  },
  {
   "cell_type": "code",
   "execution_count": 6,
   "metadata": {},
   "outputs": [
    {
     "name": "stdout",
     "output_type": "stream",
     "text": [
      "['engineering', 'knowledge', ':', 'apply', 'the', 'knowledge', 'of', 'mathematics', ',', 'science', ',', 'engineering', 'fundamentals', ',', 'and', 'an', 'engineering', 'specialization', 'to', 'the', 'solution', 'of', 'complex', 'engineering', 'problems', '.']\n"
     ]
    }
   ],
   "source": [
    "print(po_tokens[0])"
   ]
  },
  {
   "cell_type": "code",
   "execution_count": 7,
   "metadata": {},
   "outputs": [],
   "source": [
    "eng_stopwords = stopwords.words('english')\n",
    "eng_stopwords.extend([',','.',\"'\",\":\"])"
   ]
  },
  {
   "cell_type": "code",
   "execution_count": 8,
   "metadata": {},
   "outputs": [],
   "source": [
    "words = []\n",
    "for list_1 in po_tokens:\n",
    "    main_words = []\n",
    "    for word in list_1:\n",
    "        if word not in eng_stopwords:\n",
    "            if word not in main_words:\n",
    "                main_words.append(word)\n",
    "    words.append(main_words)"
   ]
  },
  {
   "cell_type": "code",
   "execution_count": 9,
   "metadata": {},
   "outputs": [
    {
     "name": "stdout",
     "output_type": "stream",
     "text": [
      "['engineering', 'knowledge', 'apply', 'mathematics', 'science', 'fundamentals', 'specialization', 'solution', 'complex', 'problems']\n"
     ]
    }
   ],
   "source": [
    "print(words[0])"
   ]
  },
  {
   "cell_type": "code",
   "execution_count": 10,
   "metadata": {},
   "outputs": [],
   "source": [
    "wnet = WordNetLemmatizer()"
   ]
  },
  {
   "cell_type": "code",
   "execution_count": 11,
   "metadata": {},
   "outputs": [],
   "source": [
    "for i in range(len(words)):\n",
    "    for j in range(len(words[i])):\n",
    "        lemm = wnet.lemmatize(words[i][j], pos='v')\n",
    "        words[i][j] = lemm"
   ]
  },
  {
   "cell_type": "code",
   "execution_count": 12,
   "metadata": {},
   "outputs": [
    {
     "name": "stdout",
     "output_type": "stream",
     "text": [
      "['engineer', 'knowledge', 'apply', 'mathematics', 'science', 'fundamentals', 'specialization', 'solution', 'complex', 'problems']\n"
     ]
    }
   ],
   "source": [
    "print(words[0])"
   ]
  },
  {
   "cell_type": "code",
   "execution_count": 13,
   "metadata": {},
   "outputs": [],
   "source": [
    "po_synonym=[]\n",
    "for i in range(len(words)):\n",
    "    po_syn = []\n",
    "    for j in range(len(words[i])):\n",
    "        for syn in wn.synsets(words[i][j]): \n",
    "#             print(\"--WORD-- : \",words[i][j])\n",
    "            if syn not in po_syn:\n",
    "#                 print(\"syn : \",syn.name())\n",
    "                po_syn.append(syn)\n",
    "    po_synonym.append(po_syn)"
   ]
  },
  {
   "cell_type": "code",
   "execution_count": 14,
   "metadata": {},
   "outputs": [
    {
     "name": "stdout",
     "output_type": "stream",
     "text": [
      "[Synset('engineer.n.01'), Synset('engineer.n.02'), Synset('engineer.v.01'), Synset('mastermind.v.01'), Synset('cognition.n.01'), Synset('use.v.01'), Synset('apply.v.02'), Synset('apply.v.03'), Synset('put_on.v.07'), Synset('lend_oneself.v.01'), Synset('give.v.20'), Synset('practice.v.04'), Synset('enforce.v.01'), Synset('apply.v.09'), Synset('apply.v.10'), Synset('mathematics.n.01'), Synset('science.n.01'), Synset('skill.n.02'), Synset('fundamentals.n.01'), Synset('fundamental.n.01'), Synset('fundamental.n.02'), Synset('specialization.n.01'), Synset('specialization.n.02'), Synset('specialization.n.03'), Synset('solution.n.01'), Synset('solution.n.02'), Synset('solution.n.03'), Synset('solution.n.04'), Synset('solution.n.05'), Synset('complex.n.01'), Synset('complex.n.02'), Synset('complex.n.03'), Synset('building_complex.n.01'), Synset('complex.a.01'), Synset('problem.n.01'), Synset('problem.n.02'), Synset('trouble.n.01')]\n"
     ]
    }
   ],
   "source": [
    "print(po_synonym[0])"
   ]
  },
  {
   "cell_type": "code",
   "execution_count": 58,
   "metadata": {},
   "outputs": [
    {
     "data": {
      "text/plain": [
       "(28, 2)"
      ]
     },
     "execution_count": 58,
     "metadata": {},
     "output_type": "execute_result"
    }
   ],
   "source": [
    "cos_df = pd.read_csv('co list.csv',header=None,encoding = 'unicode_escape')\n",
    "cos_df.columns=['sub_code','Cos']\n",
    "cos_df.shape"
   ]
  },
  {
   "cell_type": "code",
   "execution_count": 59,
   "metadata": {},
   "outputs": [
    {
     "data": {
      "text/html": [
       "<div>\n",
       "<style scoped>\n",
       "    .dataframe tbody tr th:only-of-type {\n",
       "        vertical-align: middle;\n",
       "    }\n",
       "\n",
       "    .dataframe tbody tr th {\n",
       "        vertical-align: top;\n",
       "    }\n",
       "\n",
       "    .dataframe thead th {\n",
       "        text-align: right;\n",
       "    }\n",
       "</style>\n",
       "<table border=\"1\" class=\"dataframe\">\n",
       "  <thead>\n",
       "    <tr style=\"text-align: right;\">\n",
       "      <th></th>\n",
       "      <th>sub_code</th>\n",
       "      <th>Cos</th>\n",
       "    </tr>\n",
       "  </thead>\n",
       "  <tbody>\n",
       "    <tr>\n",
       "      <td>0</td>\n",
       "      <td>UBT304C CO1</td>\n",
       "      <td>Ability to interpret principles of bioenergeti...</td>\n",
       "    </tr>\n",
       "    <tr>\n",
       "      <td>1</td>\n",
       "      <td>UBT304C CO2</td>\n",
       "      <td>Ability to understand Carbohydrate metabolism ...</td>\n",
       "    </tr>\n",
       "    <tr>\n",
       "      <td>2</td>\n",
       "      <td>UBT304C CO3</td>\n",
       "      <td>Ability to recognize the importance of Lipid m...</td>\n",
       "    </tr>\n",
       "    <tr>\n",
       "      <td>3</td>\n",
       "      <td>UBT304C CO4</td>\n",
       "      <td>Ability to understand the origin of atom in th...</td>\n",
       "    </tr>\n",
       "    <tr>\n",
       "      <td>4</td>\n",
       "      <td>UBT304C CO5</td>\n",
       "      <td>Ability to comprehend Nucleic acid metabolism ...</td>\n",
       "    </tr>\n",
       "  </tbody>\n",
       "</table>\n",
       "</div>"
      ],
      "text/plain": [
       "      sub_code                                                Cos\n",
       "0  UBT304C CO1  Ability to interpret principles of bioenergeti...\n",
       "1  UBT304C CO2  Ability to understand Carbohydrate metabolism ...\n",
       "2  UBT304C CO3  Ability to recognize the importance of Lipid m...\n",
       "3  UBT304C CO4  Ability to understand the origin of atom in th...\n",
       "4  UBT304C CO5  Ability to comprehend Nucleic acid metabolism ..."
      ]
     },
     "execution_count": 59,
     "metadata": {},
     "output_type": "execute_result"
    }
   ],
   "source": [
    "cos_df.head()"
   ]
  },
  {
   "cell_type": "code",
   "execution_count": 61,
   "metadata": {},
   "outputs": [],
   "source": [
    "co_tokens=[]\n",
    "for co in cos_df['Cos']:\n",
    "    co_tokens.append(word_tokenize(co.lower()))"
   ]
  },
  {
   "cell_type": "code",
   "execution_count": 62,
   "metadata": {},
   "outputs": [
    {
     "name": "stdout",
     "output_type": "stream",
     "text": [
      "0     Ability to interpret principles of bioenergeti...\n",
      "1     Ability to understand Carbohydrate metabolism ...\n",
      "2     Ability to recognize the importance of Lipid m...\n",
      "3     Ability to understand the origin of atom in th...\n",
      "4     Ability to comprehend Nucleic acid metabolism ...\n",
      "5     Ability to explain Amino acid metabolism and i...\n",
      "6     Ability to know the basic concepts of Microbio...\n",
      "7     Ability to understand the techniques to study ...\n",
      "8     Capable to analyze the structure of different ...\n",
      "9     Capable to interpret the techniques used to gr...\n",
      "10    Ability to analyse the different techniques to...\n",
      "11    Ability to discuss the causative organisms of ...\n",
      "12    Ability to analyse the applied techniques in t...\n",
      "13    Ability to comprehend the applications in the ...\n",
      "14    Apply the knowledge in identifying the structu...\n",
      "15    Ability to classify and analyze the mechanism ...\n",
      "16    Ability to understand the concepts of post tra...\n",
      "17    Analyse the details of gene regulation in euka...\n",
      "18    Apply the knowledge in identifying super secon...\n",
      "19    Interpret and analyze the cellular functions, ...\n",
      "20    Define the different modes of heat transfer an...\n",
      "21    Solve the problems on different types of heat ...\n",
      "22    Apply the general design considerations for he...\n",
      "23    Define and explain the different types of mass...\n",
      "24    Indentify the mass transfer and solve the prob...\n",
      "25    Calculate the no of theoretical plates in Dist...\n",
      "26    apply the different techniques like extraction...\n",
      "27       Solve the problems on mass transfer operations\n",
      "Name: Cos, dtype: object\n"
     ]
    }
   ],
   "source": [
    "print(cos_df['Cos'])"
   ]
  },
  {
   "cell_type": "code",
   "execution_count": 63,
   "metadata": {},
   "outputs": [
    {
     "name": "stdout",
     "output_type": "stream",
     "text": [
      "['ability', 'to', 'interpret', 'principles', 'of', 'bioenergetics', 'of', 'high', 'energy', 'compounds']\n"
     ]
    }
   ],
   "source": [
    "print(co_tokens[0])"
   ]
  },
  {
   "cell_type": "code",
   "execution_count": 64,
   "metadata": {},
   "outputs": [],
   "source": [
    "co_words = []\n",
    "for list_1 in co_tokens:\n",
    "    co_main_words = []\n",
    "    for word in list_1:\n",
    "        if word not in eng_stopwords:\n",
    "            if word not in co_main_words:\n",
    "                co_main_words.append(word)\n",
    "    co_words.append(co_main_words)"
   ]
  },
  {
   "cell_type": "code",
   "execution_count": 65,
   "metadata": {},
   "outputs": [
    {
     "name": "stdout",
     "output_type": "stream",
     "text": [
      "['ability', 'interpret', 'principles', 'bioenergetics', 'high', 'energy', 'compounds']\n"
     ]
    }
   ],
   "source": [
    "print(co_words[0])"
   ]
  },
  {
   "cell_type": "code",
   "execution_count": 66,
   "metadata": {},
   "outputs": [],
   "source": [
    "for i in range(len(co_words)):\n",
    "    for j in range(len(co_words[i])):\n",
    "        lemm = wnet.lemmatize(co_words[i][j], pos='v')\n",
    "        co_words[i][j] = lemm"
   ]
  },
  {
   "cell_type": "code",
   "execution_count": 67,
   "metadata": {},
   "outputs": [
    {
     "name": "stdout",
     "output_type": "stream",
     "text": [
      "['ability', 'interpret', 'principles', 'bioenergetics', 'high', 'energy', 'compound']\n"
     ]
    }
   ],
   "source": [
    "print(co_words[0])"
   ]
  },
  {
   "cell_type": "code",
   "execution_count": 68,
   "metadata": {},
   "outputs": [
    {
     "name": "stdout",
     "output_type": "stream",
     "text": [
      "[Synset('engineer.n.01'), Synset('engineer.n.02'), Synset('engineer.v.01'), Synset('mastermind.v.01'), Synset('cognition.n.01'), Synset('use.v.01'), Synset('apply.v.02'), Synset('apply.v.03'), Synset('put_on.v.07'), Synset('lend_oneself.v.01'), Synset('give.v.20'), Synset('practice.v.04'), Synset('enforce.v.01'), Synset('apply.v.09'), Synset('apply.v.10'), Synset('mathematics.n.01'), Synset('science.n.01'), Synset('skill.n.02'), Synset('fundamentals.n.01'), Synset('fundamental.n.01'), Synset('fundamental.n.02'), Synset('specialization.n.01'), Synset('specialization.n.02'), Synset('specialization.n.03'), Synset('solution.n.01'), Synset('solution.n.02'), Synset('solution.n.03'), Synset('solution.n.04'), Synset('solution.n.05'), Synset('complex.n.01'), Synset('complex.n.02'), Synset('complex.n.03'), Synset('building_complex.n.01'), Synset('complex.a.01'), Synset('problem.n.01'), Synset('problem.n.02'), Synset('trouble.n.01')]\n"
     ]
    }
   ],
   "source": [
    "print(po_synonym[0])"
   ]
  },
  {
   "cell_type": "code",
   "execution_count": 69,
   "metadata": {},
   "outputs": [
    {
     "name": "stdout",
     "output_type": "stream",
     "text": [
      "['ability', 'interpret', 'principles', 'bioenergetics', 'high', 'energy', 'compound']\n"
     ]
    }
   ],
   "source": [
    "print(co_words[0])"
   ]
  },
  {
   "cell_type": "code",
   "execution_count": 70,
   "metadata": {},
   "outputs": [
    {
     "name": "stdout",
     "output_type": "stream",
     "text": [
      "i: 0\n",
      "i: 1\n",
      "i: 2\n",
      "i: 3\n",
      "i: 4\n",
      "i: 5\n",
      "i: 6\n",
      "i: 7\n",
      "i: 8\n",
      "i: 9\n",
      "i: 10\n",
      "i: 11\n"
     ]
    }
   ],
   "source": [
    "similarity = np.zeros([cos_df.shape[0],pos_df.shape[0]])\n",
    "for i in range(len(po_synonym)):\n",
    "    print('i:',i)\n",
    "    for j in range(len(po_synonym[i])):\n",
    "#         print('j:',j)\n",
    "        for x in range(len(co_words)):\n",
    "#             print('x:',x)\n",
    "            for y in range(len(co_words[x])):\n",
    "#                 print('y:',y)\n",
    "#                 print(similarity[x][i])\n",
    "#                 print(co_words[x][y])\n",
    "#                 print(po_synonym[i][j])\n",
    "                if len(wn.synsets(co_words[x][y])) != 0 :\n",
    "#                     print('syn:',(wn.synsets(co_words[x][y])[0]).wup_similarity(po_synonym[i][j],brown_ic))\n",
    "                    if (wn.synsets(co_words[x][y])[0]).wup_similarity(po_synonym[i][j],brown_ic) != None:\n",
    "                        if (wn.synsets(co_words[x][y])[0]).wup_similarity(po_synonym[i][j],brown_ic) >= 0.5:\n",
    "                            similarity[x][i] = similarity[x][i]+((wn.synsets(co_words[x][y])[0]).wup_similarity(po_synonym[i][j],brown_ic))\n",
    "#                         print('sim:',similarity[x][i])\n",
    "#                         print(\"####\")\n",
    "\n",
    "for i in range(similarity.shape[0]):\n",
    "    for j in range(similarity.shape[1]):\n",
    "        similarity[i][j] = similarity[i][j]/(len(co_words[i])*len(po_synonym[j]))\n",
    "        similarity[i][j] = (similarity[i][j]*100)/3\n",
    "        similarity[i][j] = round(similarity[i][j],ndigits=1)"
   ]
  },
  {
   "cell_type": "code",
   "execution_count": 71,
   "metadata": {},
   "outputs": [
    {
     "name": "stdout",
     "output_type": "stream",
     "text": [
      "1 1.4 0.2\n",
      "2 1.7 0.6\n",
      "3 0.5 0.0\n",
      "4 1.2 0.5\n",
      "5 0.8 0.1\n",
      "6 0.9 0.1\n",
      "7 1.3 0.4\n",
      "8 2.1 1.1\n",
      "9 1.7 0.9\n",
      "10 1.0 0.3\n",
      "11 1.5 0.6\n",
      "12 1.0 0.3\n",
      "13 2.6 1.5\n",
      "14 1.6 0.6\n",
      "15 1.6 0.8\n",
      "16 1.5 0.6\n",
      "17 1.6 0.9\n",
      "18 1.8 0.9\n",
      "19 2.2 1.0\n",
      "20 1.4 0.7\n",
      "21 1.0 0.3\n",
      "22 1.1 0.3\n",
      "23 1.8 0.9\n",
      "24 1.3 0.4\n",
      "25 1.1 0.3\n",
      "26 0.5 0.0\n",
      "27 1.4 0.6\n",
      "28 1.7 0.6\n"
     ]
    }
   ],
   "source": [
    "for i in range(similarity.shape[0]):\n",
    "    a = i+1\n",
    "    b = max(similarity[i])\n",
    "    c = min(similarity[i])\n",
    "    print(a,b,c)"
   ]
  },
  {
   "cell_type": "code",
   "execution_count": 72,
   "metadata": {},
   "outputs": [],
   "source": [
    "map_df = pd.DataFrame(similarity, columns = ['PO1', 'PO2', 'PO3', 'PO4', 'PO5', 'PO6', 'PO7', 'PO8', 'PO9', 'PO10', 'PO11', 'PO12'])\n",
    "map_df.insert(0,\"Subject code\",cos_df['sub_code'])"
   ]
  },
  {
   "cell_type": "code",
   "execution_count": 73,
   "metadata": {},
   "outputs": [
    {
     "data": {
      "text/html": [
       "<div>\n",
       "<style scoped>\n",
       "    .dataframe tbody tr th:only-of-type {\n",
       "        vertical-align: middle;\n",
       "    }\n",
       "\n",
       "    .dataframe tbody tr th {\n",
       "        vertical-align: top;\n",
       "    }\n",
       "\n",
       "    .dataframe thead th {\n",
       "        text-align: right;\n",
       "    }\n",
       "</style>\n",
       "<table border=\"1\" class=\"dataframe\">\n",
       "  <thead>\n",
       "    <tr style=\"text-align: right;\">\n",
       "      <th></th>\n",
       "      <th>Subject code</th>\n",
       "      <th>PO1</th>\n",
       "      <th>PO2</th>\n",
       "      <th>PO3</th>\n",
       "      <th>PO4</th>\n",
       "      <th>PO5</th>\n",
       "      <th>PO6</th>\n",
       "      <th>PO7</th>\n",
       "      <th>PO8</th>\n",
       "      <th>PO9</th>\n",
       "      <th>PO10</th>\n",
       "      <th>PO11</th>\n",
       "      <th>PO12</th>\n",
       "    </tr>\n",
       "  </thead>\n",
       "  <tbody>\n",
       "    <tr>\n",
       "      <td>0</td>\n",
       "      <td>UBT304C CO1</td>\n",
       "      <td>1.4</td>\n",
       "      <td>0.9</td>\n",
       "      <td>1.0</td>\n",
       "      <td>1.2</td>\n",
       "      <td>0.9</td>\n",
       "      <td>0.6</td>\n",
       "      <td>0.7</td>\n",
       "      <td>1.0</td>\n",
       "      <td>0.2</td>\n",
       "      <td>0.3</td>\n",
       "      <td>0.6</td>\n",
       "      <td>0.5</td>\n",
       "    </tr>\n",
       "    <tr>\n",
       "      <td>1</td>\n",
       "      <td>UBT304C CO2</td>\n",
       "      <td>0.9</td>\n",
       "      <td>0.9</td>\n",
       "      <td>1.0</td>\n",
       "      <td>0.6</td>\n",
       "      <td>1.2</td>\n",
       "      <td>1.0</td>\n",
       "      <td>1.7</td>\n",
       "      <td>0.7</td>\n",
       "      <td>0.8</td>\n",
       "      <td>0.8</td>\n",
       "      <td>0.6</td>\n",
       "      <td>1.5</td>\n",
       "    </tr>\n",
       "    <tr>\n",
       "      <td>2</td>\n",
       "      <td>UBT304C CO3</td>\n",
       "      <td>0.4</td>\n",
       "      <td>0.2</td>\n",
       "      <td>0.3</td>\n",
       "      <td>0.3</td>\n",
       "      <td>0.4</td>\n",
       "      <td>0.1</td>\n",
       "      <td>0.5</td>\n",
       "      <td>0.0</td>\n",
       "      <td>0.2</td>\n",
       "      <td>0.1</td>\n",
       "      <td>0.1</td>\n",
       "      <td>0.4</td>\n",
       "    </tr>\n",
       "    <tr>\n",
       "      <td>3</td>\n",
       "      <td>UBT304C CO4</td>\n",
       "      <td>0.8</td>\n",
       "      <td>0.8</td>\n",
       "      <td>1.0</td>\n",
       "      <td>0.5</td>\n",
       "      <td>0.9</td>\n",
       "      <td>0.8</td>\n",
       "      <td>1.1</td>\n",
       "      <td>0.6</td>\n",
       "      <td>1.1</td>\n",
       "      <td>0.7</td>\n",
       "      <td>0.7</td>\n",
       "      <td>1.2</td>\n",
       "    </tr>\n",
       "    <tr>\n",
       "      <td>4</td>\n",
       "      <td>UBT304C CO5</td>\n",
       "      <td>0.6</td>\n",
       "      <td>0.2</td>\n",
       "      <td>0.5</td>\n",
       "      <td>0.3</td>\n",
       "      <td>0.5</td>\n",
       "      <td>0.3</td>\n",
       "      <td>0.8</td>\n",
       "      <td>0.1</td>\n",
       "      <td>0.2</td>\n",
       "      <td>0.2</td>\n",
       "      <td>0.1</td>\n",
       "      <td>0.5</td>\n",
       "    </tr>\n",
       "  </tbody>\n",
       "</table>\n",
       "</div>"
      ],
      "text/plain": [
       "  Subject code  PO1  PO2  PO3  PO4  PO5  PO6  PO7  PO8  PO9  PO10  PO11  PO12\n",
       "0  UBT304C CO1  1.4  0.9  1.0  1.2  0.9  0.6  0.7  1.0  0.2   0.3   0.6   0.5\n",
       "1  UBT304C CO2  0.9  0.9  1.0  0.6  1.2  1.0  1.7  0.7  0.8   0.8   0.6   1.5\n",
       "2  UBT304C CO3  0.4  0.2  0.3  0.3  0.4  0.1  0.5  0.0  0.2   0.1   0.1   0.4\n",
       "3  UBT304C CO4  0.8  0.8  1.0  0.5  0.9  0.8  1.1  0.6  1.1   0.7   0.7   1.2\n",
       "4  UBT304C CO5  0.6  0.2  0.5  0.3  0.5  0.3  0.8  0.1  0.2   0.2   0.1   0.5"
      ]
     },
     "execution_count": 73,
     "metadata": {},
     "output_type": "execute_result"
    }
   ],
   "source": [
    "map_df.head()"
   ]
  },
  {
   "cell_type": "code",
   "execution_count": 77,
   "metadata": {},
   "outputs": [
    {
     "data": {
      "text/html": [
       "<div>\n",
       "<style scoped>\n",
       "    .dataframe tbody tr th:only-of-type {\n",
       "        vertical-align: middle;\n",
       "    }\n",
       "\n",
       "    .dataframe tbody tr th {\n",
       "        vertical-align: top;\n",
       "    }\n",
       "\n",
       "    .dataframe thead th {\n",
       "        text-align: right;\n",
       "    }\n",
       "</style>\n",
       "<table border=\"1\" class=\"dataframe\">\n",
       "  <thead>\n",
       "    <tr style=\"text-align: right;\">\n",
       "      <th></th>\n",
       "      <th>Subject code</th>\n",
       "      <th>PO1</th>\n",
       "      <th>PO2</th>\n",
       "      <th>PO3</th>\n",
       "      <th>PO4</th>\n",
       "      <th>PO5</th>\n",
       "      <th>PO6</th>\n",
       "      <th>PO7</th>\n",
       "      <th>PO8</th>\n",
       "      <th>PO9</th>\n",
       "      <th>PO10</th>\n",
       "      <th>PO11</th>\n",
       "      <th>PO12</th>\n",
       "    </tr>\n",
       "  </thead>\n",
       "  <tbody>\n",
       "    <tr>\n",
       "      <td>0</td>\n",
       "      <td>UBT304C CO1</td>\n",
       "      <td>1.4</td>\n",
       "      <td>0.9</td>\n",
       "      <td>1.0</td>\n",
       "      <td>1.2</td>\n",
       "      <td>0.9</td>\n",
       "      <td>0.6</td>\n",
       "      <td>0.7</td>\n",
       "      <td>1.0</td>\n",
       "      <td>0.2</td>\n",
       "      <td>0.3</td>\n",
       "      <td>0.6</td>\n",
       "      <td>0.5</td>\n",
       "    </tr>\n",
       "    <tr>\n",
       "      <td>1</td>\n",
       "      <td>UBT304C CO2</td>\n",
       "      <td>0.9</td>\n",
       "      <td>0.9</td>\n",
       "      <td>1.0</td>\n",
       "      <td>0.6</td>\n",
       "      <td>1.2</td>\n",
       "      <td>1.0</td>\n",
       "      <td>1.7</td>\n",
       "      <td>0.7</td>\n",
       "      <td>0.8</td>\n",
       "      <td>0.8</td>\n",
       "      <td>0.6</td>\n",
       "      <td>1.5</td>\n",
       "    </tr>\n",
       "    <tr>\n",
       "      <td>2</td>\n",
       "      <td>UBT304C CO3</td>\n",
       "      <td>0.4</td>\n",
       "      <td>0.2</td>\n",
       "      <td>0.3</td>\n",
       "      <td>0.3</td>\n",
       "      <td>0.4</td>\n",
       "      <td>0.1</td>\n",
       "      <td>0.5</td>\n",
       "      <td>0.0</td>\n",
       "      <td>0.2</td>\n",
       "      <td>0.1</td>\n",
       "      <td>0.1</td>\n",
       "      <td>0.4</td>\n",
       "    </tr>\n",
       "    <tr>\n",
       "      <td>3</td>\n",
       "      <td>UBT304C CO4</td>\n",
       "      <td>0.8</td>\n",
       "      <td>0.8</td>\n",
       "      <td>1.0</td>\n",
       "      <td>0.5</td>\n",
       "      <td>0.9</td>\n",
       "      <td>0.8</td>\n",
       "      <td>1.1</td>\n",
       "      <td>0.6</td>\n",
       "      <td>1.1</td>\n",
       "      <td>0.7</td>\n",
       "      <td>0.7</td>\n",
       "      <td>1.2</td>\n",
       "    </tr>\n",
       "    <tr>\n",
       "      <td>4</td>\n",
       "      <td>UBT304C CO5</td>\n",
       "      <td>0.6</td>\n",
       "      <td>0.2</td>\n",
       "      <td>0.5</td>\n",
       "      <td>0.3</td>\n",
       "      <td>0.5</td>\n",
       "      <td>0.3</td>\n",
       "      <td>0.8</td>\n",
       "      <td>0.1</td>\n",
       "      <td>0.2</td>\n",
       "      <td>0.2</td>\n",
       "      <td>0.1</td>\n",
       "      <td>0.5</td>\n",
       "    </tr>\n",
       "  </tbody>\n",
       "</table>\n",
       "</div>"
      ],
      "text/plain": [
       "  Subject code  PO1  PO2  PO3  PO4  PO5  PO6  PO7  PO8  PO9  PO10  PO11  PO12\n",
       "0  UBT304C CO1  1.4  0.9  1.0  1.2  0.9  0.6  0.7  1.0  0.2   0.3   0.6   0.5\n",
       "1  UBT304C CO2  0.9  0.9  1.0  0.6  1.2  1.0  1.7  0.7  0.8   0.8   0.6   1.5\n",
       "2  UBT304C CO3  0.4  0.2  0.3  0.3  0.4  0.1  0.5  0.0  0.2   0.1   0.1   0.4\n",
       "3  UBT304C CO4  0.8  0.8  1.0  0.5  0.9  0.8  1.1  0.6  1.1   0.7   0.7   1.2\n",
       "4  UBT304C CO5  0.6  0.2  0.5  0.3  0.5  0.3  0.8  0.1  0.2   0.2   0.1   0.5"
      ]
     },
     "execution_count": 77,
     "metadata": {},
     "output_type": "execute_result"
    }
   ],
   "source": [
    "y = pd.DataFrame()\n",
    "y = map_df.head()\n",
    "y"
   ]
  },
  {
   "cell_type": "code",
   "execution_count": 80,
   "metadata": {},
   "outputs": [],
   "source": [
    "co_po_mapping = pd.read_excel('co_po mapping.xlsx')"
   ]
  },
  {
   "cell_type": "code",
   "execution_count": 82,
   "metadata": {},
   "outputs": [],
   "source": [
    "co_po_map = pd.DataFrame(co_po_mapping)"
   ]
  },
  {
   "cell_type": "code",
   "execution_count": 85,
   "metadata": {},
   "outputs": [
    {
     "data": {
      "text/html": [
       "<div>\n",
       "<style scoped>\n",
       "    .dataframe tbody tr th:only-of-type {\n",
       "        vertical-align: middle;\n",
       "    }\n",
       "\n",
       "    .dataframe tbody tr th {\n",
       "        vertical-align: top;\n",
       "    }\n",
       "\n",
       "    .dataframe thead th {\n",
       "        text-align: right;\n",
       "    }\n",
       "</style>\n",
       "<table border=\"1\" class=\"dataframe\">\n",
       "  <thead>\n",
       "    <tr style=\"text-align: right;\">\n",
       "      <th></th>\n",
       "      <th>Unnamed: 0</th>\n",
       "      <th>PO1</th>\n",
       "      <th>PO2</th>\n",
       "      <th>PO3</th>\n",
       "      <th>PO4</th>\n",
       "      <th>PO5</th>\n",
       "      <th>PO6</th>\n",
       "      <th>PO7</th>\n",
       "      <th>PO8</th>\n",
       "      <th>PO9</th>\n",
       "      <th>PO10</th>\n",
       "      <th>PO11</th>\n",
       "      <th>PO12</th>\n",
       "    </tr>\n",
       "  </thead>\n",
       "  <tbody>\n",
       "    <tr>\n",
       "      <td>0</td>\n",
       "      <td>UBT304C CO1</td>\n",
       "      <td>1</td>\n",
       "      <td>2</td>\n",
       "      <td>3</td>\n",
       "      <td>0</td>\n",
       "      <td>0</td>\n",
       "      <td>0</td>\n",
       "      <td>3</td>\n",
       "      <td>3</td>\n",
       "      <td>0</td>\n",
       "      <td>0</td>\n",
       "      <td>0</td>\n",
       "      <td>0</td>\n",
       "    </tr>\n",
       "    <tr>\n",
       "      <td>1</td>\n",
       "      <td>UBT304C CO2</td>\n",
       "      <td>2</td>\n",
       "      <td>3</td>\n",
       "      <td>3</td>\n",
       "      <td>2</td>\n",
       "      <td>0</td>\n",
       "      <td>0</td>\n",
       "      <td>2</td>\n",
       "      <td>3</td>\n",
       "      <td>0</td>\n",
       "      <td>0</td>\n",
       "      <td>0</td>\n",
       "      <td>0</td>\n",
       "    </tr>\n",
       "    <tr>\n",
       "      <td>2</td>\n",
       "      <td>UBT304C CO3</td>\n",
       "      <td>2</td>\n",
       "      <td>3</td>\n",
       "      <td>3</td>\n",
       "      <td>3</td>\n",
       "      <td>0</td>\n",
       "      <td>3</td>\n",
       "      <td>2</td>\n",
       "      <td>2</td>\n",
       "      <td>0</td>\n",
       "      <td>0</td>\n",
       "      <td>0</td>\n",
       "      <td>0</td>\n",
       "    </tr>\n",
       "    <tr>\n",
       "      <td>3</td>\n",
       "      <td>UBT304C CO4</td>\n",
       "      <td>3</td>\n",
       "      <td>3</td>\n",
       "      <td>3</td>\n",
       "      <td>2</td>\n",
       "      <td>0</td>\n",
       "      <td>2</td>\n",
       "      <td>2</td>\n",
       "      <td>2</td>\n",
       "      <td>0</td>\n",
       "      <td>0</td>\n",
       "      <td>0</td>\n",
       "      <td>0</td>\n",
       "    </tr>\n",
       "    <tr>\n",
       "      <td>4</td>\n",
       "      <td>UBT304C CO5</td>\n",
       "      <td>2</td>\n",
       "      <td>2</td>\n",
       "      <td>2</td>\n",
       "      <td>2</td>\n",
       "      <td>0</td>\n",
       "      <td>1</td>\n",
       "      <td>2</td>\n",
       "      <td>2</td>\n",
       "      <td>0</td>\n",
       "      <td>0</td>\n",
       "      <td>0</td>\n",
       "      <td>0</td>\n",
       "    </tr>\n",
       "  </tbody>\n",
       "</table>\n",
       "</div>"
      ],
      "text/plain": [
       "    Unnamed: 0  PO1  PO2  PO3  PO4  PO5  PO6  PO7  PO8  PO9  PO10  PO11  PO12\n",
       "0  UBT304C CO1    1    2    3    0    0    0    3    3    0     0     0     0\n",
       "1  UBT304C CO2    2    3    3    2    0    0    2    3    0     0     0     0\n",
       "2  UBT304C CO3    2    3    3    3    0    3    2    2    0     0     0     0\n",
       "3  UBT304C CO4    3    3    3    2    0    2    2    2    0     0     0     0\n",
       "4  UBT304C CO5    2    2    2    2    0    1    2    2    0     0     0     0"
      ]
     },
     "execution_count": 85,
     "metadata": {},
     "output_type": "execute_result"
    }
   ],
   "source": [
    "x = co_po_map.head()\n",
    "x"
   ]
  },
  {
   "cell_type": "code",
   "execution_count": 88,
   "metadata": {},
   "outputs": [
    {
     "name": "stdout",
     "output_type": "stream",
     "text": [
      "PO1             1.1\n",
      "PO10           -0.8\n",
      "PO11           -0.6\n",
      "PO12           -1.5\n",
      "PO2             2.1\n",
      "PO3               2\n",
      "PO4             1.4\n",
      "PO5            -1.2\n",
      "PO6              -1\n",
      "PO7             0.3\n",
      "PO8             2.3\n",
      "PO9            -0.8\n",
      "Subject code    NaN\n",
      "Unnamed: 0      NaN\n",
      "Name: 1, dtype: object\n",
      "PO1             1.6\n",
      "PO10           -0.1\n",
      "PO11           -0.1\n",
      "PO12           -0.4\n",
      "PO2             2.8\n",
      "PO3             2.7\n",
      "PO4             2.7\n",
      "PO5            -0.4\n",
      "PO6             2.9\n",
      "PO7             1.5\n",
      "PO8               2\n",
      "PO9            -0.2\n",
      "Subject code    NaN\n",
      "Unnamed: 0      NaN\n",
      "Name: 2, dtype: object\n",
      "PO1             2.2\n",
      "PO10           -0.7\n",
      "PO11           -0.7\n",
      "PO12           -1.2\n",
      "PO2             2.2\n",
      "PO3               2\n",
      "PO4             1.5\n",
      "PO5            -0.9\n",
      "PO6             1.2\n",
      "PO7             0.9\n",
      "PO8             1.4\n",
      "PO9            -1.1\n",
      "Subject code    NaN\n",
      "Unnamed: 0      NaN\n",
      "Name: 3, dtype: object\n",
      "PO1             1.4\n",
      "PO10           -0.2\n",
      "PO11           -0.1\n",
      "PO12           -0.5\n",
      "PO2             1.8\n",
      "PO3             1.5\n",
      "PO4             1.7\n",
      "PO5            -0.5\n",
      "PO6             0.7\n",
      "PO7             1.2\n",
      "PO8             1.9\n",
      "PO9            -0.2\n",
      "Subject code    NaN\n",
      "Unnamed: 0      NaN\n",
      "Name: 4, dtype: object\n"
     ]
    }
   ],
   "source": [
    "for i in range(1,len(y)):\n",
    "    print(x.iloc[i]-y.iloc[i])"
   ]
  },
  {
   "cell_type": "code",
   "execution_count": 89,
   "metadata": {},
   "outputs": [],
   "source": []
  },
  {
   "cell_type": "code",
   "execution_count": 90,
   "metadata": {},
   "outputs": [
    {
     "data": {
      "text/plain": [
       "1"
      ]
     },
     "execution_count": 90,
     "metadata": {},
     "output_type": "execute_result"
    }
   ],
   "source": []
  },
  {
   "cell_type": "code",
   "execution_count": null,
   "metadata": {},
   "outputs": [],
   "source": []
  }
 ],
 "metadata": {
  "kernelspec": {
   "display_name": "Python 3",
   "language": "python",
   "name": "python3"
  },
  "language_info": {
   "codemirror_mode": {
    "name": "ipython",
    "version": 3
   },
   "file_extension": ".py",
   "mimetype": "text/x-python",
   "name": "python",
   "nbconvert_exporter": "python",
   "pygments_lexer": "ipython3",
   "version": "3.7.4"
  }
 },
 "nbformat": 4,
 "nbformat_minor": 2
}
